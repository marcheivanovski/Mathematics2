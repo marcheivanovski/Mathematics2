{
 "cells": [
  {
   "cell_type": "code",
   "execution_count": 161,
   "metadata": {},
   "outputs": [],
   "source": [
    "import numpy as np\n",
    "import math\n",
    "import random\n",
    "import time\n",
    "import matplotlib.pyplot as plt\n",
    "from sklearn.linear_model import LinearRegression"
   ]
  },
  {
   "cell_type": "markdown",
   "metadata": {},
   "source": [
    "### Exercise 3"
   ]
  },
  {
   "cell_type": "code",
   "execution_count": 8,
   "metadata": {},
   "outputs": [],
   "source": [
    "def GD(gradient_function, gamma, x1, steps, timelimit=None):\n",
    "    t = time.time()\n",
    "    \n",
    "    all_points=[np.array(x1)]\n",
    "    for i in range(1,steps+1):\n",
    "        x=all_points[i-1]-gamma*gradient_function(all_points[i-1])\n",
    "        #x=pd(x) #if necessery add PD function\n",
    "        all_points.append(x)\n",
    "        \n",
    "        if timelimit != None and time.time() - t > timelimit:\n",
    "                print('    Time limit reached!')\n",
    "                break\n",
    "        \n",
    "    return all_points\n",
    "        \n",
    "def PGD(gradient_function, gamma, mu, x1, steps, timelimit=None):\n",
    "    t = time.time()\n",
    "    \n",
    "    all_points=[x1, x1]\n",
    "    x=x1\n",
    "    for i in range(2,steps+2):\n",
    "        x = all_points[i-1]-gamma*gradient_function(all_points[i-1])+mu*(all_points[i-1]-all_points[i-2])\n",
    "        #x=pd(x) #if necessery add PD function\n",
    "        all_points.append(x)\n",
    "        \n",
    "        if timelimit != None and time.time() - t > timelimit:\n",
    "                print('    Time limit reached!')\n",
    "                break\n",
    "        \n",
    "    return all_points\n",
    "        \n",
    "def NGD(gradient_function, gamma, mu, x1, steps, timelimit=None):\n",
    "    t = time.time()\n",
    "    \n",
    "    all_points=[x1, x1]\n",
    "    x=x1\n",
    "    for i in range(2,steps+2):\n",
    "        x = all_points[i-1] - \\\n",
    "            gamma*gradient_function(all_points[i-1] + mu*(all_points[i-1]-all_points[i-2])) + \\\n",
    "            mu*(all_points[i-1]-all_points[i-2])\n",
    "        #x=pd(x) #if necessery add PD function\n",
    "        all_points.append(x)\n",
    "        \n",
    "        if timelimit != None and time.time() - t > timelimit:\n",
    "                print('    Time limit reached!')\n",
    "                break\n",
    "        \n",
    "    return all_points\n",
    "        \n",
    "def AGD(gradient_function, gamma, x1, steps, timelimit=None):\n",
    "    t = time.time()\n",
    "    \n",
    "    all_points=[x1]\n",
    "    all_gradients=np.ones(len(x1))\n",
    "    \n",
    "    for i in range(1,steps+1):\n",
    "        gradient_step=gradient_function(all_points[i-1])\n",
    "        D=np.diag(1/np.sqrt(all_gradients))\n",
    "        x = all_points[i-1] - gamma*D*gradient_step\n",
    "            \n",
    "        #x=pd(x) #if necessery add PD function\n",
    "        all_gradients+=gradient_step**2\n",
    "        all_points.append(x)\n",
    "        \n",
    "        if timelimit != None and time.time() - t > timelimit:\n",
    "                print('    Time limit reached!')\n",
    "                break\n",
    "        \n",
    "    return all_points"
   ]
  },
  {
   "cell_type": "markdown",
   "metadata": {},
   "source": [
    "### Exercise 4"
   ]
  },
  {
   "cell_type": "code",
   "execution_count": 9,
   "metadata": {},
   "outputs": [],
   "source": [
    "def NewtonMethod(hessian_matrix, gradient_function, x1, steps, timelimit=None):\n",
    "    #all_points=np.zeros((steps+1, len(x1)))\n",
    "    t = time.time()\n",
    "    \n",
    "    all_points=[x1]\n",
    "    for i in range(1,steps+1):\n",
    "        x=all_points[i-1]-np.dot(np.linalg.inv(hessian_matrix(all_points[i-1])),gradient_function(all_points[i-1]))\n",
    "        #print(x)\n",
    "        #x=pd(x) #if necessery add PD function\n",
    "        #all_points[i,:]=x\n",
    "        all_points.append(x)\n",
    "        \n",
    "        if timelimit != None and time.time() - t > timelimit:\n",
    "                print('    Time limit reached!')\n",
    "                break\n",
    "        \n",
    "    return all_points\n",
    "\n",
    "def BFGS(gradient_function, x1, steps, timelimit=None):\n",
    "    t = time.time()\n",
    "    \n",
    "    B=np.eye(len(x1))\n",
    "    all_points=[x1, x1-np.dot(B,gradient_function(x1))]\n",
    "    \n",
    "    for i in range(steps):\n",
    "        xk, xk_1 = all_points[-1], all_points[-2]\n",
    "        grad_xk, grad_xk_1 = gradient_function(xk), gradient_function(xk_1)\n",
    "        \n",
    "        gamma = grad_xk-grad_xk_1\n",
    "        delta = xk-xk_1\n",
    "        \n",
    "        #print(all_points)\n",
    "        #print(grad_xk)\n",
    "        #print(grad_xk_1)\n",
    "        gamma=gamma[..., None]\n",
    "        delta=delta[..., None]\n",
    "        \n",
    "        if delta.T.dot(gamma) == 0:\n",
    "            print('    BFGS OVERFLOW!!!')\n",
    "            return all_points\n",
    "        \n",
    "        B_new = B - (delta.dot(gamma.T.dot(B)) + B.dot(gamma).dot(delta.T)) / (delta.T.dot(gamma)) + \\\n",
    "             (1 + (gamma.T.dot(B).dot(gamma)) / (delta.T.dot(gamma))) * (delta * delta.T) / (delta.T.dot(gamma))      \n",
    "        \n",
    "        all_points.append(xk-B_new.dot(gradient_function(xk)))\n",
    "        B=B_new\n",
    "        \n",
    "        #print(time.time() - t)\n",
    "        if timelimit != None and time.time() - t > timelimit:\n",
    "                print('    Time limit reached!')\n",
    "                break\n",
    "        \n",
    "    return all_points"
   ]
  },
  {
   "cell_type": "markdown",
   "metadata": {},
   "source": [
    "### Exercise 1 solution checking"
   ]
  },
  {
   "cell_type": "code",
   "execution_count": 104,
   "metadata": {},
   "outputs": [
    {
     "name": "stdout",
     "output_type": "stream",
     "text": [
      "[array(-1), 1, -1, 1, -1, 1, -1, 1, -1, 1, -1]\n",
      "[0, 0, -1.0, 0.0, 0.0, -1.0, 0.0, 0.0, -1.0, 0.0, 0.0, -1.0]\n"
     ]
    }
   ],
   "source": [
    "def gradient_function_gd(x):\n",
    "    return 2*x\n",
    "\n",
    "print(GD(gradient_function_gd, 1, -1, 10))\n",
    "\n",
    "def gradient_function_pgd(x):\n",
    "    return 6*x+2\n",
    "\n",
    "print(PGD(gradient_function_pgd, 0.5, 1, 0, 10))\n",
    "\n",
    "def gradient_function_ngd(x):\n",
    "    return 2*x-1\n",
    "\n",
    "##print(NGD(gradient_function_ngd, 2/3, 1, 0, 1 , 10))"
   ]
  },
  {
   "cell_type": "markdown",
   "metadata": {},
   "source": [
    "### Exercise 5"
   ]
  },
  {
   "cell_type": "code",
   "execution_count": 213,
   "metadata": {},
   "outputs": [],
   "source": [
    "def commpare_all(hessian_function, gradient_function, x1, gamma, mu, actual_min):\n",
    "    \n",
    "    print(f\"Testing all the methods on 2 steps, shown bellow is the distance from the actual minimum x*\")\n",
    "    print(f\"    Gradient descend: {np.sum(np.square(GD(gradient_function, gamma, x1, 2)[-1]- actual_min)):.5f}\")\n",
    "    print(f\"    Polyak gradient: {np.sum(np.square(PGD(gradient_function, gamma, mu, x1, 2)[-1]- actual_min)):.5f}\")\n",
    "    print(f\"    Nestorov gradient descend: {np.sum(np.square(NGD(gradient_function, gamma, mu, x1, 2)[-1]- actual_min)):.5f}\")\n",
    "    print(f\"    Newton method: {np.sum(np.square(NewtonMethod(hessian_function, gradient_function, x1, 2)[-1]- actual_min))}\")\n",
    "    print(f\"    BFGS method: {np.sum(np.square(BFGS(gradient_function, x1, 10)[-1]- actual_min))}\")\n",
    "    \n",
    "    \n",
    "    print(f\"Testing all the methods on 5 steps, shown bellow is the distance from the actual minimum x*\")\n",
    "    print(f\"    Gradient descend: {np.sum(np.square(GD(gradient_function, gamma, x1, 5)[-1]- actual_min)):.5f}\")\n",
    "    print(f\"    Polyak gradient: {np.sum(np.square(PGD(gradient_function, gamma, mu, x1, 5)[-1]- actual_min)):.5f}\")\n",
    "    print(f\"    Nestorov gradient descend: {np.sum(np.square(NGD(gradient_function, gamma, mu, x1, 5)[-1]- actual_min)):.5f}\")\n",
    "    print(f\"    Newton method: {np.sum(np.square(NewtonMethod(hessian_function, gradient_function, x1, 5)[-1]- actual_min))}\")\n",
    "    print(f\"    BFGS method: {np.sum(np.square(BFGS(gradient_function, x1, 5)[-1]- actual_min))}\")\n",
    "    \n",
    "    print(f\"Testing all the methods on 10 steps, shown bellow is the distance from the actual minimum x*\")\n",
    "    print(f\"    Gradient descend: {np.sum(np.square(GD(gradient_function, gamma, x1, 10)[-1]- actual_min)):.5f}\")\n",
    "    print(f\"    Polyak gradient: {np.sum(np.square(PGD(gradient_function, gamma, mu, x1, 10)[-1]- actual_min)):.5f}\")\n",
    "    print(f\"    Nestorov gradient descend: {np.sum(np.square(NGD(gradient_function, gamma, mu, x1, 10)[-1]- actual_min)):.5f}\")\n",
    "    print(f\"    Newton method: {np.sum(np.square(NewtonMethod(hessian_function, gradient_function, x1, 10)[-1]- actual_min))}\")\n",
    "    print(f\"    BFGS method: {np.sum(np.square(BFGS(gradient_function, x1, 10)[-1]- actual_min))}\")\n",
    "    \n",
    "    print(f\"Testing all the methods on 100 steps, shown bellow is the distance from the actual minimum x*\")\n",
    "    print(f\"    Gradient descend: {np.sum(np.square(GD(gradient_function, gamma, x1, 100)[-1]- actual_min)):.5f}\")\n",
    "    print(f\"    Polyak gradient: {np.sum(np.square(PGD(gradient_function, gamma, mu, x1, 100)[-1]- actual_min)):.5f}\")\n",
    "    print(f\"    Nestorov gradient descend: {np.sum(np.square(NGD(gradient_function, gamma, mu, x1, 100)[-1]- actual_min)):.5f}\")\n",
    "    print(f\"    Newton method: {np.sum(np.square(NewtonMethod(hessian_function, gradient_function, x1, 100)[-1]- actual_min)):.5f}\")\n",
    "    print(f\"    BFGS method: {np.sum(np.square(BFGS(gradient_function, x1, 100)[-1]- actual_min)):.5f}\")\n",
    "    \n",
    "    print(\"Testing on time now...\")\n",
    "    print(f\"Testing all the methods on 0.1 seconds, shown bellow is the distance from the actual minimum x*\")\n",
    "    print(f\"    Gradient descend: {np.sum(np.square(GD(gradient_function, gamma, x1, 1000000000000000000, 0.1)[-1]- actual_min))}\")\n",
    "    print(f\"    Polyak gradient: {np.sum(np.square(PGD(gradient_function, gamma, mu, x1, 1000000000000000000, 0.1)[-1]- actual_min))}\")\n",
    "    print(f\"    Nestorov gradient descend: {np.sum(np.square(NGD(gradient_function, gamma, mu, x1, 1000000000000000000, 0.1)[-1]- actual_min))}\")\n",
    "    print(f\"    Newton method: {np.sum(np.square(NewtonMethod(hessian_function, gradient_function, x1, 1000000000000000000, 0.1)[-1]- actual_min))}\")\n",
    "    print(f\"    BFGS method: {np.sum(np.square(BFGS(gradient_function, x1, 1000000000000000000, 0.1)[-1]- actual_min))}\")\n",
    "    \n",
    "    print(f\"Testing all the methods on 1 seconds, shown bellow is the distance from the actual minimum x*\")\n",
    "    print(f\"    Gradient descend: {np.sum(np.square(GD(gradient_function, gamma, x1, 10000000000000000000000000, 1)[-1]- actual_min))}\")\n",
    "    print(f\"    Polyak gradient: {np.sum(np.square(PGD(gradient_function, gamma, mu, x1, 10000000000000000000000000, 1)[-1]- actual_min))}\")\n",
    "    print(f\"    Nestorov gradient descend: {np.sum(np.square(NGD(gradient_function, gamma, mu, x1, 10000000000000000000000000, 1)[-1]- actual_min))}\")\n",
    "    print(f\"    Newton method: {np.sum(np.square(NewtonMethod(hessian_function, gradient_function, x1, 10000000000000000000000000, 1)[-1]- actual_min))}\")\n",
    "    print(f\"    BFGS method: {np.sum(np.square(BFGS(gradient_function, x1, 10000000000000000000000000, 1)[-1]- actual_min))}\")\n",
    "    \n",
    "    print(f\"Testing all the methods on 2 seconds, shown bellow is the distance from the actual minimum x*\")\n",
    "    print(f\"    Gradient descend: {np.sum(np.square(GD(gradient_function, gamma, x1, 10000000000000000000000000, 2)[-1]- actual_min))}\")\n",
    "    print(f\"    Polyak gradient: {np.sum(np.square(PGD(gradient_function, gamma, mu, x1, 10000000000000000000000000, 2)[-1]- actual_min))}\")\n",
    "    print(f\"    Nestorov gradient descend: {np.sum(np.square(NGD(gradient_function, gamma, mu, x1, 10000000000000000000000000, 2)[-1]- actual_min))}\")\n",
    "    print(f\"    Newton method: {np.sum(np.square(NewtonMethod(hessian_function, gradient_function, x1, 10000000000000000000000000, 2)[-1]- actual_min))}\")\n",
    "    print(f\"    BFGS method: {np.sum(np.square(BFGS(gradient_function, x1, 10000000000000000000000000, 2)[-1]- actual_min))}\")\n",
    "    "
   ]
  },
  {
   "cell_type": "markdown",
   "metadata": {},
   "source": [
    "The first function on which we are going to compare all approaches is:\n",
    "$$f(x,y,z)=(x-z)^{2}+(2y+z)^{2}+(4x-2y+z)^{2}+x+y$$\n",
    "First we will start with \n",
    "$$x_{1}=(0,0,0)$$"
   ]
  },
  {
   "cell_type": "code",
   "execution_count": 214,
   "metadata": {},
   "outputs": [
    {
     "name": "stdout",
     "output_type": "stream",
     "text": [
      "Testing all the methods on 2 steps, shown bellow is the distance from the actual minimum x*\n",
      "    Gradient descend: 0.09337\n",
      "    Polyak gradient: 0.09301\n",
      "    Nestorov gradient descend: 0.09303\n",
      "    Newton method: 1.5407439555097887e-33\n",
      "    BFGS method: 8.520524277920641e-16\n",
      "Testing all the methods on 5 steps, shown bellow is the distance from the actual minimum x*\n",
      "    Gradient descend: 0.07586\n",
      "    Polyak gradient: 0.07473\n",
      "    Nestorov gradient descend: 0.07478\n",
      "    Newton method: 1.5407439555097887e-33\n",
      "    BFGS method: 0.046619878826407814\n",
      "Testing all the methods on 10 steps, shown bellow is the distance from the actual minimum x*\n",
      "    Gradient descend: 0.05475\n",
      "    Polyak gradient: 0.05305\n",
      "    Nestorov gradient descend: 0.05311\n",
      "    Newton method: 1.5407439555097887e-33\n",
      "    BFGS method: 8.520524277920641e-16\n",
      "Testing all the methods on 100 steps, shown bellow is the distance from the actual minimum x*\n",
      "    Gradient descend: 0.00027\n",
      "    Polyak gradient: 0.00019\n",
      "    Nestorov gradient descend: 0.00020\n",
      "    Newton method: 0.00000\n",
      "    BFGS OVERFLOW!!!\n",
      "    BFGS method: 0.00000\n",
      "Testing on time now...\n",
      "Testing all the methods on 0.1 seconds, shown bellow is the distance from the actual minimum x*\n",
      "    Time limit reached!\n",
      "    Gradient descend: 5.9241605089351375e-31\n",
      "    Time limit reached!\n",
      "    Polyak gradient: 5.9241605089351375e-31\n",
      "    Time limit reached!\n",
      "    Nestorov gradient descend: 5.9241605089351375e-31\n",
      "    Time limit reached!\n",
      "    Newton method: 1.5407439555097887e-33\n",
      "    BFGS OVERFLOW!!!\n",
      "    BFGS method: 2.311115933264683e-33\n",
      "Testing all the methods on 1 seconds, shown bellow is the distance from the actual minimum x*\n",
      "    Time limit reached!\n",
      "    Gradient descend: 5.9241605089351375e-31\n",
      "    Time limit reached!\n",
      "    Polyak gradient: 5.9241605089351375e-31\n",
      "    Time limit reached!\n",
      "    Nestorov gradient descend: 5.9241605089351375e-31\n",
      "    Time limit reached!\n",
      "    Newton method: 1.5407439555097887e-33\n",
      "    BFGS OVERFLOW!!!\n",
      "    BFGS method: 2.311115933264683e-33\n",
      "Testing all the methods on 2 seconds, shown bellow is the distance from the actual minimum x*\n",
      "    Time limit reached!\n",
      "    Gradient descend: 5.9241605089351375e-31\n",
      "    Time limit reached!\n",
      "    Polyak gradient: 5.9241605089351375e-31\n",
      "    Time limit reached!\n",
      "    Nestorov gradient descend: 5.9241605089351375e-31\n",
      "    Time limit reached!\n",
      "    Newton method: 1.5407439555097887e-33\n",
      "    BFGS OVERFLOW!!!\n",
      "    BFGS method: 2.311115933264683e-33\n"
     ]
    }
   ],
   "source": [
    "def gradient_function_a_part(X):\n",
    "    x,y,z = X[0], X[1], X[2]\n",
    "    return np.array([34*x-16*y+6*z+1, -16*x+16*y+1, 6*x+6*z])\n",
    "\n",
    "def hessian_function_a_part(_):\n",
    "    return np.array([\n",
    "        np.array([34, -16, 6]),\n",
    "        np.array([-16, 16, 0]),\n",
    "        np.array([6, 0, 6]),\n",
    "    ])\n",
    "\n",
    "gamma = 0.01\n",
    "mu = 0.05\n",
    "x1=np.array([0,0,0])\n",
    "actual_min = np.array([-1/6, -11/48, 1/6])\n",
    "\n",
    "commpare_all(hessian_function_a_part, gradient_function_a_part, x1, gamma, mu, actual_min)"
   ]
  },
  {
   "cell_type": "markdown",
   "metadata": {},
   "source": [
    "and then \n",
    "$$x_{1}=(1,1,0)$$"
   ]
  },
  {
   "cell_type": "code",
   "execution_count": 215,
   "metadata": {},
   "outputs": [
    {
     "name": "stdout",
     "output_type": "stream",
     "text": [
      "Testing all the methods on 2 steps, shown bellow is the distance from the actual minimum x*\n",
      "    Gradient descend: 2.19513\n",
      "    Polyak gradient: 2.17947\n",
      "    Nestorov gradient descend: 2.18129\n",
      "    Newton method: 0.0\n",
      "    BFGS method: 2.311115933264683e-33\n",
      "Testing all the methods on 5 steps, shown bellow is the distance from the actual minimum x*\n",
      "    Gradient descend: 1.58360\n",
      "    Polyak gradient: 1.54683\n",
      "    Nestorov gradient descend: 1.54945\n",
      "    Newton method: 2.311115933264683e-33\n",
      "    BFGS method: 1.4411677504448062e-09\n",
      "Testing all the methods on 10 steps, shown bellow is the distance from the actual minimum x*\n",
      "    Gradient descend: 0.99750\n",
      "    Polyak gradient: 0.95503\n",
      "    Nestorov gradient descend: 0.95750\n",
      "    Newton method: 2.311115933264683e-33\n",
      "    BFGS method: 2.311115933264683e-33\n",
      "Testing all the methods on 100 steps, shown bellow is the distance from the actual minimum x*\n",
      "    Gradient descend: 0.00407\n",
      "    Polyak gradient: 0.00295\n",
      "    Nestorov gradient descend: 0.00298\n",
      "    Newton method: 0.00000\n",
      "    BFGS OVERFLOW!!!\n",
      "    BFGS method: 0.00000\n",
      "Testing on time now...\n",
      "Testing all the methods on 0.1 seconds, shown bellow is the distance from the actual minimum x*\n",
      "    Time limit reached!\n",
      "    Gradient descend: 5.9241605089351375e-31\n",
      "    Time limit reached!\n",
      "    Polyak gradient: 5.9241605089351375e-31\n",
      "    Time limit reached!\n",
      "    Nestorov gradient descend: 5.9241605089351375e-31\n",
      "    Time limit reached!\n",
      "    Newton method: 2.311115933264683e-33\n",
      "    BFGS OVERFLOW!!!\n",
      "    BFGS method: 2.311115933264683e-33\n",
      "Testing all the methods on 1 seconds, shown bellow is the distance from the actual minimum x*\n",
      "    Time limit reached!\n",
      "    Gradient descend: 5.9241605089351375e-31\n",
      "    Time limit reached!\n",
      "    Polyak gradient: 5.9241605089351375e-31\n",
      "    Time limit reached!\n",
      "    Nestorov gradient descend: 5.9241605089351375e-31\n",
      "    Time limit reached!\n",
      "    Newton method: 2.311115933264683e-33\n",
      "    BFGS OVERFLOW!!!\n",
      "    BFGS method: 2.311115933264683e-33\n",
      "Testing all the methods on 2 seconds, shown bellow is the distance from the actual minimum x*\n",
      "    Time limit reached!\n",
      "    Gradient descend: 5.9241605089351375e-31\n",
      "    Time limit reached!\n",
      "    Polyak gradient: 5.9241605089351375e-31\n",
      "    Time limit reached!\n",
      "    Nestorov gradient descend: 5.9241605089351375e-31\n",
      "    Time limit reached!\n",
      "    Newton method: 2.311115933264683e-33\n",
      "    BFGS OVERFLOW!!!\n",
      "    BFGS method: 2.311115933264683e-33\n"
     ]
    }
   ],
   "source": [
    "gamma = 0.01\n",
    "mu = 0.05\n",
    "x1=np.array([1,1,0])\n",
    "actual_min = np.array([-1/6, -11/48, 1/6])\n",
    "\n",
    "commpare_all(hessian_function_a_part, gradient_function_a_part, x1, gamma, mu, actual_min)"
   ]
  },
  {
   "cell_type": "markdown",
   "metadata": {},
   "source": [
    "The first function on which we are going to compare all approaches is:\n",
    "$$(x-1)^{2}+(y-1)^{2}+100(y-x^{2})^{2}+100(z-y^{2})^{2}$$\n",
    "First we will start with \n",
    "$$x_{1}=(1.2, 1.2, 1.2)$$\n"
   ]
  },
  {
   "cell_type": "code",
   "execution_count": 216,
   "metadata": {},
   "outputs": [
    {
     "name": "stdout",
     "output_type": "stream",
     "text": [
      "Testing all the methods on 2 steps, shown bellow is the distance from the actual minimum x*\n",
      "    Gradient descend: 0.11045\n",
      "    Polyak gradient: 0.10999\n",
      "    Nestorov gradient descend: 0.11004\n",
      "    Newton method: 0.06862321660838383\n",
      "    BFGS method: nan\n",
      "Testing all the methods on 5 steps, shown bellow is the distance from the actual minimum x*\n",
      "    Gradient descend: 0.10119\n",
      "    Polyak gradient: 0.10003\n",
      "    Nestorov gradient descend: 0.10014\n",
      "    Newton method: 0.000168833131814448\n",
      "    BFGS method: 1.5086514831559803e+50\n",
      "Testing all the methods on 10 steps, shown bellow is the distance from the actual minimum x*\n",
      "    Gradient descend: 0.09315\n",
      "    Polyak gradient: 0.09202\n",
      "    Nestorov gradient descend: 0.09213\n",
      "    Newton method: 0.0\n",
      "    BFGS method: nan\n",
      "Testing all the methods on 100 steps, shown bellow is the distance from the actual minimum x*\n",
      "    Gradient descend: 0.08542\n",
      "    Polyak gradient: 0.08532\n",
      "    Nestorov gradient descend: 0.08533\n",
      "    Newton method: 0.00000\n",
      "    BFGS method: nan\n",
      "Testing on time now...\n",
      "Testing all the methods on 0.1 seconds, shown bellow is the distance from the actual minimum x*\n",
      "    Time limit reached!\n",
      "    Gradient descend: 0.03160469616565139\n"
     ]
    },
    {
     "name": "stderr",
     "output_type": "stream",
     "text": [
      "<ipython-input-216-9f1823781d78>:4: RuntimeWarning: invalid value encountered in double_scalars\n",
      "  return np.array([2*(x-1)-400*x*(y-x**2), 2*(y-1)+200*(y-x**2)-400*y*(z-y**2), 200*(z-y**2)])\n"
     ]
    },
    {
     "name": "stdout",
     "output_type": "stream",
     "text": [
      "    Time limit reached!\n",
      "    Polyak gradient: 0.02925397863682173\n",
      "    Time limit reached!\n",
      "    Nestorov gradient descend: 0.038286533427595804\n",
      "    Time limit reached!\n",
      "    Newton method: 0.0\n",
      "    Time limit reached!\n",
      "    BFGS method: nan\n",
      "Testing all the methods on 1 seconds, shown bellow is the distance from the actual minimum x*\n",
      "    Time limit reached!\n",
      "    Gradient descend: 6.469020925437517e-07\n",
      "    Time limit reached!\n",
      "    Polyak gradient: 2.692928584785769e-06\n",
      "    Time limit reached!\n",
      "    Nestorov gradient descend: 1.2434498464866268e-05\n",
      "    Time limit reached!\n",
      "    Newton method: 0.0\n",
      "    Time limit reached!\n",
      "    BFGS method: nan\n",
      "Testing all the methods on 2 seconds, shown bellow is the distance from the actual minimum x*\n",
      "    Time limit reached!\n",
      "    Gradient descend: 1.0122531610683364e-12\n",
      "    Time limit reached!\n",
      "    Polyak gradient: 1.0688468814207739e-11\n",
      "    Time limit reached!\n",
      "    Nestorov gradient descend: 3.4587406090219427e-10\n",
      "    Time limit reached!\n",
      "    Newton method: 0.0\n",
      "    Time limit reached!\n",
      "    BFGS method: nan\n"
     ]
    }
   ],
   "source": [
    "#Second function\n",
    "def gradient_function_b_part(X):\n",
    "    x, y, z = X[0], X[1], X[2]\n",
    "    return np.array([2*(x-1)-400*x*(y-x**2), 2*(y-1)+200*(y-x**2)-400*y*(z-y**2), 200*(z-y**2)])\n",
    "\n",
    "def hessian_function_b_part(X):\n",
    "    x, y, z = X[0], X[1], X[2]\n",
    "    return np.array([\n",
    "        [-400*(y-x**2) + 800*x**2 + 2, -400*x, 0],\n",
    "        [-400*x, -400*(z-y**2) + 800*y**2 + 202, -400*y],\n",
    "        [0, -400*y, 200]\n",
    "    ])\n",
    "\n",
    "\n",
    "gamma = 0.0001\n",
    "mu = 0.1\n",
    "x1=np.array([1.2, 1.2, 1.2])\n",
    "actual_min = np.array([1, 1, 1])\n",
    "\n",
    "commpare_all(hessian_function_b_part, gradient_function_b_part, x1, gamma, mu, actual_min)"
   ]
  },
  {
   "cell_type": "markdown",
   "metadata": {},
   "source": [
    "and then,\n",
    "$$x_{1}=(-1, 1.2, 1.2)$$"
   ]
  },
  {
   "cell_type": "code",
   "execution_count": 25,
   "metadata": {},
   "outputs": [
    {
     "name": "stdout",
     "output_type": "stream",
     "text": [
      "Testing all the methods on 2 steps, shown bellow is the distance from the actual minimum x*\n",
      "    Gradient descend: 4.12931\n",
      "    Polyak gradient: 4.13204\n",
      "    Nestorov gradient descend: 4.13161\n",
      "    Newton method: 4.09248\n",
      "    BFGS method: nan\n",
      "Testing all the methods on 5 steps, shown bellow is the distance from the actual minimum x*\n",
      "    Gradient descend: 4.18023\n",
      "    Polyak gradient: 4.18757\n",
      "    Nestorov gradient descend: 4.18636\n",
      "    Newton method: 3.57209\n",
      "    BFGS method: 2.4892343743311203e+79\n",
      "Testing all the methods on 10 steps, shown bellow is the distance from the actual minimum x*\n",
      "    Gradient descend: 4.22509\n",
      "    Polyak gradient: 4.23184\n",
      "    Nestorov gradient descend: 4.23078\n",
      "    Newton method: 877.49327\n",
      "    BFGS method: nan\n",
      "Testing all the methods on 100 steps, shown bellow is the distance from the actual minimum x*\n",
      "    Gradient descend: 4.24667\n",
      "    Polyak gradient: 4.24539\n",
      "    Nestorov gradient descend: 4.24542\n",
      "    Newton method: 0.00000\n",
      "    BFGS method: nan\n",
      "Testing on time now...\n",
      "Testing all the methods on 0.1 seconds, shown bellow is the distance from the actual minimum x*\n",
      "    Time limit reached!\n",
      "    Gradient descend: 3.6940286868507286\n",
      "    Time limit reached!\n",
      "    Polyak gradient: 3.6925588314917706\n",
      "    Time limit reached!\n",
      "    Nestorov gradient descend: 3.702598699300195\n",
      "    Time limit reached!\n",
      "    Newton method: 0.0\n",
      "    Time limit reached!\n",
      "    BFGS method: nan\n",
      "Testing all the methods on 1 seconds, shown bellow is the distance from the actual minimum x*\n",
      "    Time limit reached!\n",
      "    Gradient descend: 3.3898987471825195e-05\n",
      "    Time limit reached!\n",
      "    Polyak gradient: 0.00011944492079249986\n",
      "    Time limit reached!\n",
      "    Nestorov gradient descend: 0.0005082420541028935\n",
      "    Time limit reached!\n",
      "    Newton method: 0.0\n",
      "    Time limit reached!\n",
      "    BFGS method: nan\n",
      "Testing all the methods on 2 seconds, shown bellow is the distance from the actual minimum x*\n",
      "    Time limit reached!\n",
      "    Gradient descend: 3.510846560542728e-11\n",
      "    Time limit reached!\n",
      "    Polyak gradient: 4.391484727976158e-10\n",
      "    Time limit reached!\n",
      "    Nestorov gradient descend: 3.481750028988994e-08\n",
      "    Time limit reached!\n",
      "    Newton method: 0.0\n",
      "    Time limit reached!\n",
      "    BFGS method: nan\n"
     ]
    }
   ],
   "source": [
    "gamma = 0.0001\n",
    "mu = 0.1\n",
    "x1=np.array([-1, 1.2, 1.2])\n",
    "actual_min = np.array([1, 1, 1])\n",
    "\n",
    "commpare_all(hessian_function_b_part, gradient_function_b_part, x1, gamma, mu, actual_min)"
   ]
  },
  {
   "cell_type": "markdown",
   "metadata": {},
   "source": [
    "The first function on which we are going to compare all approaches is:\n",
    "$$(1.5-x+xy)^{2}+(2.25-x+xy^{2})^{2}+(2.625-x+xy^{3})^{2}$$\n",
    "First we will start with \n",
    "$$x_{1}=(1, 1)$$"
   ]
  },
  {
   "cell_type": "code",
   "execution_count": 217,
   "metadata": {},
   "outputs": [
    {
     "name": "stdout",
     "output_type": "stream",
     "text": [
      "Testing all the methods on 2 steps, shown bellow is the distance from the actual minimum x*\n",
      "    Gradient descend: 4.24447\n",
      "    Polyak gradient: 4.24419\n",
      "    Nestorov gradient descend: 4.24419\n",
      "    Newton method: 9.25\n",
      "    BFGS method: nan\n",
      "Testing all the methods on 5 steps, shown bellow is the distance from the actual minimum x*\n",
      "    Gradient descend: 4.23620\n",
      "    Polyak gradient: 4.23502\n",
      "    Nestorov gradient descend: 4.23501\n",
      "    Newton method: 9.25\n",
      "    BFGS method: nan\n",
      "Testing all the methods on 10 steps, shown bellow is the distance from the actual minimum x*\n",
      "    Gradient descend: 4.22247\n",
      "    Polyak gradient: 4.21979\n",
      "    Nestorov gradient descend: 4.21978\n",
      "    Newton method: 9.25\n",
      "    BFGS method: nan\n",
      "Testing all the methods on 100 steps, shown bellow is the distance from the actual minimum x*\n",
      "    Gradient descend: 3.98408\n",
      "    Polyak gradient: 3.95600\n",
      "    Nestorov gradient descend: 3.95591\n",
      "    Newton method: 9.25000\n",
      "    BFGS method: nan\n",
      "Testing on time now...\n",
      "Testing all the methods on 0.1 seconds, shown bellow is the distance from the actual minimum x*\n",
      "    Time limit reached!\n",
      "    Gradient descend: 0.33608691345222635\n"
     ]
    },
    {
     "name": "stderr",
     "output_type": "stream",
     "text": [
      "<ipython-input-217-2b80ffedcb74>:3: RuntimeWarning: invalid value encountered in double_scalars\n",
      "  return np.array([2*(1.5-x+x*y)*(y-1)+2*(2.25-x+x*y**2)*(y**2-1)+2*(2.625-x+x*y**3)*(y**3-1), \\\n",
      "<ipython-input-217-2b80ffedcb74>:4: RuntimeWarning: invalid value encountered in double_scalars\n",
      "  2*(1.5-x+x*y)*x+4*(2.25-x+x*y**2)*(x*y)+6*(2.625-x+x*y**3)*(x*y**2)])\n"
     ]
    },
    {
     "name": "stdout",
     "output_type": "stream",
     "text": [
      "    Time limit reached!\n",
      "    Polyak gradient: 0.3072808506784999\n",
      "    Time limit reached!\n",
      "    Nestorov gradient descend: 0.3890290195882501\n",
      "    Time limit reached!\n",
      "    Newton method: 9.25\n",
      "    Time limit reached!\n",
      "    BFGS method: nan\n",
      "Testing all the methods on 1 seconds, shown bellow is the distance from the actual minimum x*\n",
      "    Time limit reached!\n",
      "    Gradient descend: 0.0007257447947076049\n",
      "    Time limit reached!\n",
      "    Polyak gradient: 0.0005181942929336989\n",
      "    Time limit reached!\n",
      "    Nestorov gradient descend: 0.0011661545534209724\n",
      "    Time limit reached!\n",
      "    Newton method: 9.25\n",
      "    Time limit reached!\n",
      "    BFGS method: nan\n",
      "Testing all the methods on 2 seconds, shown bellow is the distance from the actual minimum x*\n",
      "    Time limit reached!\n",
      "    Gradient descend: 2.070774620628967e-06\n",
      "    Time limit reached!\n",
      "    Polyak gradient: 1.9138550265357493e-06\n",
      "    Time limit reached!\n",
      "    Nestorov gradient descend: 7.310316779653059e-06\n",
      "    Time limit reached!\n",
      "    Newton method: 9.25\n",
      "    Time limit reached!\n",
      "    BFGS method: nan\n"
     ]
    }
   ],
   "source": [
    "def gradient_function_c_part(X):\n",
    "    x, y = X[0], X[1]\n",
    "    return np.array([2*(1.5-x+x*y)*(y-1)+2*(2.25-x+x*y**2)*(y**2-1)+2*(2.625-x+x*y**3)*(y**3-1), \\\n",
    "                    2*(1.5-x+x*y)*x+4*(2.25-x+x*y**2)*(x*y)+6*(2.625-x+x*y**3)*(x*y**2)])\n",
    "\n",
    "def hessian_matrix_c_part(X):\n",
    "    x, y = X[0], X[1]\n",
    "    return np.array([[2*(y**6+y**4-2*y**3-y**2-2*y+3), 2*x*(6*y**5+4*y**3-6*y**2-2*y-2)+15.75*y**2+9*y+3], \\\n",
    "                    [2*x*(6*y**5+4*y**3-6*y**2-2*y-2)+15.75*y**2+9*y+3, 2*x*(x*(15*y**4+6*y**2-6*y-1)+6*2.625*y+4.5*y)]])\n",
    "\n",
    "#x1=(1,1,0)\n",
    "\n",
    "\n",
    "gamma = 0.0001\n",
    "mu = 0.1\n",
    "x1=np.array([1,1])\n",
    "actual_min = np.array([3, 0.5])\n",
    "\n",
    "commpare_all(hessian_matrix_c_part, gradient_function_c_part, x1, gamma, mu, actual_min)"
   ]
  },
  {
   "cell_type": "markdown",
   "metadata": {},
   "source": [
    "and then\n",
    "$$x_{1}=(4.5, 4.5)$$"
   ]
  },
  {
   "cell_type": "code",
   "execution_count": 32,
   "metadata": {},
   "outputs": [
    {
     "name": "stdout",
     "output_type": "stream",
     "text": [
      "Testing all the methods on 2 steps, shown bellow is the distance from the actual minimum x*\n",
      "    Gradient descend: 14.81387\n",
      "    Polyak gradient: 13.89379\n",
      "    Nestorov gradient descend: 14.08709\n",
      "    Newton method: 7.91576\n",
      "    BFGS method: nan\n",
      "Testing all the methods on 5 steps, shown bellow is the distance from the actual minimum x*\n",
      "    Gradient descend: 12.15934\n",
      "    Polyak gradient: 9.39337\n",
      "    Nestorov gradient descend: 9.96291\n",
      "    Newton method: 3.52364\n",
      "    BFGS method: nan\n",
      "Testing all the methods on 10 steps, shown bellow is the distance from the actual minimum x*\n",
      "    Gradient descend: 9.82881\n",
      "    Polyak gradient: 6.85520\n",
      "    Nestorov gradient descend: 7.32214\n",
      "    Newton method: 8.58271\n",
      "    BFGS method: nan\n",
      "Testing all the methods on 100 steps, shown bellow is the distance from the actual minimum x*\n",
      "    Gradient descend: 3.58792\n",
      "    Polyak gradient: 2.41752\n",
      "    Nestorov gradient descend: 2.46649\n",
      "    Newton method: 9.25000\n",
      "    BFGS method: nan\n",
      "Testing on time now...\n",
      "Testing all the methods on 0.1 seconds, shown bellow is the distance from the actual minimum x*\n",
      "    Time limit reached!\n",
      "    Gradient descend: 0.6523582728439231\n"
     ]
    },
    {
     "name": "stderr",
     "output_type": "stream",
     "text": [
      "<ipython-input-28-2b80ffedcb74>:3: RuntimeWarning: overflow encountered in double_scalars\n",
      "  return np.array([2*(1.5-x+x*y)*(y-1)+2*(2.25-x+x*y**2)*(y**2-1)+2*(2.625-x+x*y**3)*(y**3-1), \\\n",
      "<ipython-input-28-2b80ffedcb74>:4: RuntimeWarning: overflow encountered in double_scalars\n",
      "  2*(1.5-x+x*y)*x+4*(2.25-x+x*y**2)*(x*y)+6*(2.625-x+x*y**3)*(x*y**2)])\n"
     ]
    },
    {
     "name": "stdout",
     "output_type": "stream",
     "text": [
      "    Time limit reached!\n",
      "    Polyak gradient: 0.591760579479422\n",
      "    Time limit reached!\n",
      "    Nestorov gradient descend: 0.6130932251854818\n",
      "    Time limit reached!\n",
      "    Newton method: 9.25\n",
      "    Time limit reached!\n",
      "    BFGS method: nan\n",
      "Testing all the methods on 1 seconds, shown bellow is the distance from the actual minimum x*\n",
      "    Time limit reached!\n",
      "    Gradient descend: 0.6210439526028628\n",
      "    Time limit reached!\n",
      "    Polyak gradient: 0.5685557506095547\n",
      "    Time limit reached!\n",
      "    Nestorov gradient descend: 0.5886862503580663\n",
      "    Time limit reached!\n",
      "    Newton method: 9.25\n",
      "    Time limit reached!\n",
      "    BFGS method: nan\n",
      "Testing all the methods on 2 seconds, shown bellow is the distance from the actual minimum x*\n",
      "    Time limit reached!\n",
      "    Gradient descend: 0.6064765047218923\n",
      "    Time limit reached!\n",
      "    Polyak gradient: 0.5493178759305221\n",
      "    Time limit reached!\n",
      "    Nestorov gradient descend: 0.5701152965926732\n",
      "    Time limit reached!\n",
      "    Newton method: 9.25\n",
      "    Time limit reached!\n",
      "    BFGS method: nan\n"
     ]
    }
   ],
   "source": [
    "gamma = 1e-6\n",
    "mu = 0.5\n",
    "x1=np.array([4.5, 4.5])\n",
    "actual_min = np.array([3, 0.5])\n",
    "\n",
    "commpare_all(hessian_matrix_c_part, gradient_function_c_part, x1, gamma, mu, actual_min)"
   ]
  },
  {
   "cell_type": "markdown",
   "metadata": {},
   "source": [
    "### Exercise 6"
   ]
  },
  {
   "cell_type": "markdown",
   "metadata": {},
   "source": [
    "Lets first define SGD and L-BFGS"
   ]
  },
  {
   "cell_type": "code",
   "execution_count": 111,
   "metadata": {},
   "outputs": [],
   "source": [
    "def SGD(_, gamma, x1, steps, timelimit=None):\n",
    "    t = time.time()\n",
    "    all_points=[np.array(x1)]\n",
    "    \n",
    "    intercept=x1[0]\n",
    "    beta=x1[1]\n",
    "    n=X.shape[0]\n",
    "    \n",
    "    for i in range(1,steps+1):\n",
    "        j = np.random.randint(0, X.shape[0])\n",
    "        instance=X[j,:]\n",
    "        label=y[j]\n",
    "        \n",
    "        intercept=all_points[-1][0]\n",
    "        beta=all_points[-1][1]\n",
    "        \n",
    "        x=all_points[-1]-gamma*np.array([2/n*(beta*instance[1]+intercept-label), 2/n*(beta*instance[1]+intercept-label)*instance[1]])\n",
    "        #x=pd(x) #if necessery add PD function\n",
    "        all_points.append(x)\n",
    "        \n",
    "        if timelimit != None and time.time() - t > timelimit:\n",
    "                print('    Time limit reached!')\n",
    "                break\n",
    "        \n",
    "    return all_points"
   ]
  },
  {
   "cell_type": "code",
   "execution_count": 26,
   "metadata": {},
   "outputs": [
    {
     "data": {
      "image/png": "[encoded data removed]",
      "text/plain": [
       "<Figure size 432x288 with 1 Axes>"
      ]
     },
     "metadata": {
      "needs_background": "light"
     },
     "output_type": "display_data"
    }
   ],
   "source": [
    "def generate_points(N):\n",
    "    random.seed(0)\n",
    "    x=np.array([i for i in range(1,N+1)])\n",
    "    y=np.array([i+random.uniform(0, 1) for i in range(1,N+1)])\n",
    "    return np.insert(x[...,None], 0, np.ones(x.shape[0]), axis=1), y\n",
    "\n",
    "\n",
    "X, y = generate_points(100)\n",
    "\n",
    "plt.plot(X,y)\n",
    "plt.show()"
   ]
  },
  {
   "cell_type": "code",
   "execution_count": 14,
   "metadata": {},
   "outputs": [
    {
     "name": "stdout",
     "output_type": "stream",
     "text": [
      "[1.00060802]\n",
      "0.5549681217666134\n"
     ]
    }
   ],
   "source": [
    "linr_model = LinearRegression().fit(X[:,1][...,None], y)\n",
    "print(linr_model.coef_)\n",
    "print(linr_model.intercept_)"
   ]
  },
  {
   "cell_type": "code",
   "execution_count": 184,
   "metadata": {},
   "outputs": [],
   "source": [
    "def f(params):\n",
    "    y_pred=np.dot(X, params[...,None])\n",
    "    n=X.shape[0]\n",
    "    return np.sum((y_pred-y[...,None])**2)/n\n",
    "\n",
    "def gradf(params):\n",
    "    y_pred=np.dot(X, params[...,None])\n",
    "    residuals=y_pred - y[...,None]\n",
    "    n=X.shape[0]\n",
    "    return np.array([2/n*np.sum(residuals), 2/n*np.dot(residuals[:,0], X[:,1])])\n",
    "\n",
    "def Hf(_):\n",
    "    n=X.shape[0]\n",
    "    return np.array([\n",
    "        [2, 2/n*np.sum(X[:,1])],\n",
    "        [2/n*np.sum(X[:,1]), 2/n*np.sum(X[:,1]**2)]\n",
    "    ])\n",
    "\n",
    "\n",
    "def f_lbfgs(params, *args):\n",
    "    X, y = args[0], args[1]\n",
    "    return f(params)\n",
    "\n",
    "def gradf_lbfgs(params, *args):\n",
    "    X, y = args[0], args[1]\n",
    "    return gradf(params)"
   ]
  },
  {
   "cell_type": "code",
   "execution_count": 220,
   "metadata": {},
   "outputs": [],
   "source": [
    "from scipy.optimize import fmin_l_bfgs_b\n",
    "\n",
    "def fit_model(N, hessian_function, gradient_function, x1, gamma, gamma_sgd, steps):\n",
    "    X, y = generate_points(N)\n",
    "    \n",
    "    params = fmin_l_bfgs_b(f_lbfgs, fprime=gradf_lbfgs, x0=x1, approx_grad=False, args=(X,y), maxfun=steps)\n",
    "    \n",
    "    print(f\"Fitting a linear regression model using all methods on {N} points, using {steps} steps...\")\n",
    "    print(f\"    Gradient descend: {GD(gradient_function, gamma, x1, steps)[-1]}\")\n",
    "    print(f\"    Stochastic descend: {SGD(_, gamma_sgd, x1, steps)[-1]}\")\n",
    "    print(f\"    Newton method: {NewtonMethod(hessian_function, gradient_function, x1, steps)[-1]}\")\n",
    "    print(f\"    BFGS method: {BFGS(gradient_function, x1, steps)[-1]}\")\n",
    "    print(f'    LBFGS method:[{params[0]}]')\n",
    "    \n",
    "    print(f\"And the function values...\")\n",
    "    print(f\"    Gradient descend: {f(GD(gradient_function, gamma, x1, steps)[-1])}\")\n",
    "    print(f\"    Stochastic descend: {f(SGD(_, gamma_sgd, x1, steps)[-1])}\")\n",
    "    print(f\"    Newton method: {f(NewtonMethod(hessian_function, gradient_function, x1, steps)[-1])}\")\n",
    "    print(f\"    BFGS method: {f(BFGS(gradient_function, x1, steps)[-1])}\")\n",
    "    print(f'    LBFGS method:[{f(params[0])}]')"
   ]
  },
  {
   "cell_type": "markdown",
   "metadata": {},
   "source": [
    "Fitting model to points generated as:\n",
    "$${(i, i+Uniform(0,1)}$$"
   ]
  },
  {
   "cell_type": "markdown",
   "metadata": {},
   "source": [
    "First up we start by generating 50 points and testing all methods how they perform when we do 50 or 1000 steps."
   ]
  },
  {
   "cell_type": "code",
   "execution_count": 221,
   "metadata": {},
   "outputs": [
    {
     "name": "stdout",
     "output_type": "stream",
     "text": [
      "Fitting a linear regression model using all methods on 50 points, using 50 steps...\n",
      "    Gradient descend: [0.01473602 0.97833451]\n",
      "    Stochastic descend: [0.00050451 0.03428872]\n",
      "    Newton method: [0.55496812 1.00060802]\n",
      "    BFGS OVERFLOW!!!\n",
      "    BFGS method: [0.55496812 1.00060802]\n",
      "    LBFGS method:[[0.55496813 1.00060802]]\n",
      "And the function values...\n",
      "    Gradient descend: 3.255401915102025\n",
      "    Stochastic descend: 3214.696907787424\n",
      "    Newton method: 0.06964631475088329\n",
      "    BFGS OVERFLOW!!!\n",
      "    BFGS method: 0.06964631475088344\n",
      "    LBFGS method:[0.0696463147508833]\n"
     ]
    }
   ],
   "source": [
    "x1=np.array([0,0])\n",
    "gamma=0.00001\n",
    "gamma_sgd=0.00001\n",
    "fit_model(50, Hf, gradf, x1, gamma, gamma_sgd, 50)"
   ]
  },
  {
   "cell_type": "code",
   "execution_count": 222,
   "metadata": {},
   "outputs": [
    {
     "name": "stdout",
     "output_type": "stream",
     "text": [
      "Fitting a linear regression model using all methods on 50 points, using 1000 steps...\n",
      "    Gradient descend: [0.01770798 1.00862741]\n",
      "    Stochastic descend: [0.01912556 1.00876245]\n",
      "    Newton method: [0.55496812 1.00060802]\n",
      "    BFGS OVERFLOW!!!\n",
      "    BFGS method: [0.55496812 1.00060802]\n",
      "    LBFGS method:[[0.55496813 1.00060802]]\n",
      "And the function values...\n",
      "    Gradient descend: 0.1407313856281898\n",
      "    Stochastic descend: 0.14408289274225114\n",
      "    Newton method: 0.06964631475088329\n",
      "    BFGS OVERFLOW!!!\n",
      "    BFGS method: 0.06964631475088344\n",
      "    LBFGS method:[0.0696463147508833]\n"
     ]
    }
   ],
   "source": [
    "x1=np.array([0, 0])\n",
    "gamma=0.00001\n",
    "gamma_sgd=0.001\n",
    "fit_model(50, Hf, gradf, x1, gamma, gamma_sgd, 1000)"
   ]
  },
  {
   "cell_type": "markdown",
   "metadata": {},
   "source": [
    "Then we generate 100 points."
   ]
  },
  {
   "cell_type": "code",
   "execution_count": 223,
   "metadata": {},
   "outputs": [
    {
     "name": "stdout",
     "output_type": "stream",
     "text": [
      "Fitting a linear regression model using all methods on 100 points, using 50 steps...\n",
      "    Gradient descend: [0.01473602 0.97833451]\n",
      "    Stochastic descend: [0.00048258 0.03371817]\n",
      "    Newton method: [0.55496812 1.00060802]\n",
      "    BFGS OVERFLOW!!!\n",
      "    BFGS method: [0.55496812 1.00060802]\n",
      "    LBFGS method:[[0.55496813 1.00060802]]\n",
      "And the function values...\n",
      "    Gradient descend: 3.255401915102025\n",
      "    Stochastic descend: 3236.9948419580546\n",
      "    Newton method: 0.06964631475088329\n",
      "    BFGS OVERFLOW!!!\n",
      "    BFGS method: 0.06964631475088344\n",
      "    LBFGS method:[0.0696463147508833]\n"
     ]
    }
   ],
   "source": [
    "x1=np.array([0, 0])\n",
    "gamma=0.00001\n",
    "gamma_sgd=0.00001\n",
    "fit_model(100, Hf, gradf, x1, gamma, gamma_sgd, 50)"
   ]
  },
  {
   "cell_type": "code",
   "execution_count": 224,
   "metadata": {},
   "outputs": [
    {
     "name": "stdout",
     "output_type": "stream",
     "text": [
      "Fitting a linear regression model using all methods on 100 points, using 1000 steps...\n",
      "    Gradient descend: [0.01770798 1.00862741]\n",
      "    Stochastic descend: [0.00749578 0.50067931]\n",
      "    Newton method: [0.55496812 1.00060802]\n",
      "    BFGS OVERFLOW!!!\n",
      "    BFGS method: [0.55496812 1.00060802]\n",
      "    LBFGS method:[[0.55496813 1.00060802]]\n",
      "And the function values...\n",
      "    Gradient descend: 0.1407313856281898\n",
      "    Stochastic descend: 873.9409662364535\n",
      "    Newton method: 0.06964631475088329\n",
      "    BFGS OVERFLOW!!!\n",
      "    BFGS method: 0.06964631475088344\n",
      "    LBFGS method:[0.0696463147508833]\n"
     ]
    }
   ],
   "source": [
    "x1=np.array([0, 0])\n",
    "gamma=0.00001\n",
    "gamma_sgd=0.00001\n",
    "fit_model(100, Hf, gradf, x1, gamma, gamma_sgd, 1000)"
   ]
  },
  {
   "cell_type": "markdown",
   "metadata": {},
   "source": [
    "Then we generate 1000 points"
   ]
  },
  {
   "cell_type": "code",
   "execution_count": 225,
   "metadata": {},
   "outputs": [
    {
     "name": "stdout",
     "output_type": "stream",
     "text": [
      "Fitting a linear regression model using all methods on 1000 points, using 50 steps...\n",
      "    Gradient descend: [0.01473602 0.97833451]\n",
      "    Stochastic descend: [0.00056128 0.03936011]\n",
      "    Newton method: [0.55496812 1.00060802]\n",
      "    BFGS OVERFLOW!!!\n",
      "    BFGS method: [0.55496812 1.00060802]\n",
      "    LBFGS method:[[0.55496813 1.00060802]]\n",
      "And the function values...\n",
      "    Gradient descend: 3.255401915102025\n",
      "    Stochastic descend: 3223.475301462714\n",
      "    Newton method: 0.06964631475088329\n",
      "    BFGS OVERFLOW!!!\n",
      "    BFGS method: 0.06964631475088344\n",
      "    LBFGS method:[0.0696463147508833]\n"
     ]
    }
   ],
   "source": [
    "x1=np.array([0, 0])\n",
    "gamma=0.00001\n",
    "gamma_sgd=0.00001\n",
    "fit_model(1000, Hf, gradf, x1, gamma, gamma_sgd, 50)"
   ]
  },
  {
   "cell_type": "code",
   "execution_count": 226,
   "metadata": {},
   "outputs": [
    {
     "name": "stdout",
     "output_type": "stream",
     "text": [
      "Fitting a linear regression model using all methods on 1000 points, using 1000 steps...\n",
      "    Gradient descend: [0.01770798 1.00862741]\n",
      "    Stochastic descend: [0.00739682 0.49484662]\n",
      "    Newton method: [0.55496812 1.00060802]\n",
      "    BFGS OVERFLOW!!!\n",
      "    BFGS method: [0.55496812 1.00060802]\n",
      "    LBFGS method:[[0.55496813 1.00060802]]\n",
      "And the function values...\n",
      "    Gradient descend: 0.1407313856281898\n",
      "    Stochastic descend: 945.9570181642692\n",
      "    Newton method: 0.06964631475088329\n",
      "    BFGS OVERFLOW!!!\n",
      "    BFGS method: 0.06964631475088344\n",
      "    LBFGS method:[0.0696463147508833]\n"
     ]
    }
   ],
   "source": [
    "x1=np.array([0, 0])\n",
    "gamma=0.00001\n",
    "gamma_sgd=0.00001\n",
    "fit_model(1000, Hf, gradf, x1, gamma, gamma_sgd, 1000)"
   ]
  },
  {
   "cell_type": "markdown",
   "metadata": {},
   "source": [
    "Then we generate 10 000 points."
   ]
  },
  {
   "cell_type": "code",
   "execution_count": 227,
   "metadata": {},
   "outputs": [
    {
     "name": "stdout",
     "output_type": "stream",
     "text": [
      "Fitting a linear regression model using all methods on 10000 points, using 50 steps...\n",
      "    Gradient descend: [0.01473602 0.97833451]\n",
      "    Stochastic descend: [0.00047539 0.03015042]\n",
      "    Newton method: [0.55496812 1.00060802]\n",
      "    BFGS OVERFLOW!!!\n",
      "    BFGS method: [0.55496812 1.00060802]\n",
      "    LBFGS method:[[0.55496813 1.00060802]]\n",
      "And the function values...\n",
      "    Gradient descend: 3.255401915102025\n",
      "    Stochastic descend: 3224.482637474414\n",
      "    Newton method: 0.06964631475088329\n",
      "    BFGS OVERFLOW!!!\n",
      "    BFGS method: 0.06964631475088344\n",
      "    LBFGS method:[0.0696463147508833]\n"
     ]
    }
   ],
   "source": [
    "x1=np.array([0, 0])\n",
    "gamma=0.00001\n",
    "gamma_sgd=0.00001\n",
    "fit_model(10000, Hf, gradf, x1, gamma, gamma_sgd, 50)"
   ]
  },
  {
   "cell_type": "code",
   "execution_count": 228,
   "metadata": {},
   "outputs": [
    {
     "name": "stdout",
     "output_type": "stream",
     "text": [
      "Fitting a linear regression model using all methods on 10000 points, using 1000 steps...\n",
      "    Gradient descend: [0.01770798 1.00862741]\n",
      "    Stochastic descend: [0.00742746 0.49020822]\n",
      "    Newton method: [0.55496812 1.00060802]\n",
      "    BFGS OVERFLOW!!!\n",
      "    BFGS method: [0.55496812 1.00060802]\n",
      "    LBFGS method:[[0.55496813 1.00060802]]\n",
      "And the function values...\n",
      "    Gradient descend: 0.1407313856281898\n",
      "    Stochastic descend: 890.5882406923513\n",
      "    Newton method: 0.06964631475088329\n",
      "    BFGS OVERFLOW!!!\n",
      "    BFGS method: 0.06964631475088344\n",
      "    LBFGS method:[0.0696463147508833]\n"
     ]
    }
   ],
   "source": [
    "x1=np.array([0, 0])\n",
    "gamma=0.00001\n",
    "gamma_sgd=0.00001\n",
    "fit_model(10000, Hf, gradf, x1, gamma, gamma_sgd, 1000)"
   ]
  },
  {
   "cell_type": "markdown",
   "metadata": {},
   "source": [
    "Finally we generate a million of them :)."
   ]
  },
  {
   "cell_type": "code",
   "execution_count": 229,
   "metadata": {},
   "outputs": [
    {
     "name": "stdout",
     "output_type": "stream",
     "text": [
      "Fitting a linear regression model using all methods on 1000000 points, using 50 steps...\n",
      "    Gradient descend: [0.01473602 0.97833451]\n",
      "    Stochastic descend: [0.00049836 0.0337737 ]\n",
      "    Newton method: [0.55496812 1.00060802]\n",
      "    BFGS OVERFLOW!!!\n",
      "    BFGS method: [0.55496812 1.00060802]\n",
      "    LBFGS method:[[0.55496813 1.00060802]]\n",
      "And the function values...\n",
      "    Gradient descend: 3.255401915102025\n",
      "    Stochastic descend: 3225.8102505769343\n",
      "    Newton method: 0.06964631475088329\n",
      "    BFGS OVERFLOW!!!\n",
      "    BFGS method: 0.06964631475088344\n",
      "    LBFGS method:[0.0696463147508833]\n"
     ]
    }
   ],
   "source": [
    "x1=np.array([0, 0])\n",
    "gamma=0.00001\n",
    "gamma_sgd=0.00001\n",
    "fit_model(1000000, Hf, gradf, x1, gamma, gamma_sgd, 50)"
   ]
  },
  {
   "cell_type": "code",
   "execution_count": 230,
   "metadata": {},
   "outputs": [
    {
     "name": "stdout",
     "output_type": "stream",
     "text": [
      "Fitting a linear regression model using all methods on 1000000 points, using 1000 steps...\n",
      "    Gradient descend: [0.01770798 1.00862741]\n",
      "    Stochastic descend: [0.00748781 0.49527008]\n",
      "    Newton method: [0.55496812 1.00060802]\n",
      "    BFGS OVERFLOW!!!\n",
      "    BFGS method: [0.55496812 1.00060802]\n",
      "    LBFGS method:[[0.55496813 1.00060802]]\n",
      "And the function values...\n",
      "    Gradient descend: 0.1407313856281898\n",
      "    Stochastic descend: 903.980950619941\n",
      "    Newton method: 0.06964631475088329\n",
      "    BFGS OVERFLOW!!!\n",
      "    BFGS method: 0.06964631475088344\n",
      "    LBFGS method:[0.0696463147508833]\n"
     ]
    }
   ],
   "source": [
    "x1=np.array([0, 0])\n",
    "gamma=0.00001\n",
    "gamma_sgd=0.00001\n",
    "fit_model(1000000, Hf, gradf, x1, gamma, gamma_sgd, 1000)"
   ]
  },
  {
   "cell_type": "markdown",
   "metadata": {},
   "source": [
    "## Exercise 5\n",
    "For the first function:\n",
    "$$f(x,y,z)=(x-z)^{2}+(2y+z)^{2}+(4x-2y+z)^{2}+x+y x_{1}=(0,0,0)$$\n",
    "One can definetly say that Newton and BFGS performed the best when tested on steps, although granted, we started close to the minimum. Then comes Polyak which was a bit better than Nestorov and finaly the normal Gradient Descend method. Then I tested all methods on different time intervals. When the time was very little, Newton was the best although BFGS was not far behind. Finally, on 2 seconds, Newton came the closes while GD, PGD and NGD all came to the same x. Similar results can be concluded when we started at point:\n",
    "$$x_{1}=(1,1,0)$$\n",
    "\n",
    "Then comes the second function:\n",
    "$$(x-1)^{2}+(y-1)^{2}+100(y-x^{2})^{2}+100(z-y^{2})^{2} x_{1}=(1.2, 1.2, 1.2)$$\n",
    "Once again, the comparison is quite similar. Newton was the closest and when it performed 5 steps it came exactly at the global minimum. BFGS had a lot of issues with overflowing and limited space hence L-BFGS would be a potential alternative. Interestingly when given more time, Nestorov performed a little better than Polyak. \n",
    "\n",
    "Finally the third function:\n",
    "$$(1.5-x+xy)^{2}+(2.25-x+xy^{2})^{2}+(2.625-x+xy^{3})^{2} x_{1}=(1, 1)$$ \n",
    "BFGS had a overflow issues. Interestingly Newton was not the best it got stuck in a point. All other methods were very similar with Polyak having a slight advantage."
   ]
  },
  {
   "cell_type": "markdown",
   "metadata": {},
   "source": [
    "## Exercise 6\n",
    "When fitting parameters to N points using 50 steps SGD did a poor job, GD had a big loss as well and BFGS, LBFGS did a great job. Newton was in the middle. When I increased the number of steps to 1000 GD and SGD did a better job. All three Newton, BFGS and LBFGS returned almost the same solution.\n"
   ]
  }
 ],
 "metadata": {
  "kernelspec": {
   "display_name": "Python [conda env:ids-clone] *",
   "language": "python",
   "name": "conda-env-ids-clone-py"
  },
  "language_info": {
   "codemirror_mode": {
    "name": "ipython",
    "version": 3
   },
   "file_extension": ".py",
   "mimetype": "text/x-python",
   "name": "python",
   "nbconvert_exporter": "python",
   "pygments_lexer": "ipython3",
   "version": "3.8.11"
  }
 },
 "nbformat": 4,
 "nbformat_minor": 4
}
